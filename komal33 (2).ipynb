{
 "cells": [
  {
   "cell_type": "code",
   "execution_count": 11,
   "id": "6153bf2b-94df-438e-9fbf-a22c0b45e394",
   "metadata": {},
   "outputs": [],
   "source": [
    "import pandas as pd\n",
    "import random\n",
    "\n",
    "# User profile and career-related data\n",
    "user_profile = {\n",
    "    \"name\": \"Alex Johnson\",\n",
    "    \"profession\": \"Data Analyst\",\n",
    "    \"experience_years\": 4,\n",
    "    \"career_goals\": \"Advance into Data Science\",\n",
    "    \"career_interests\": [\"IT\", \"Data Science\", \"AI\"]\n",
    "}\n",
    "\n",
    "skills_data = {\n",
    "    'Skill': ['Python', 'SQL', 'Machine Learning', 'Deep Learning', 'Cloud Computing', 'Big Data', 'Communication'],\n",
    "    'Current Level': [4, 4, 2, 1, 1, 1, 5],  # out of 5\n",
    "    'Target Level': [5, 5, 4, 3, 3, 3, 5]\n",
    "}\n",
    "df_skills = pd.DataFrame(skills_data)\n",
    "\n",
    "learning_resources = [\n",
    "    {\"title\": \"Deep Learning Specialization\", \"platform\": \"Coursera\", \"level\": \"Advanced\", \"free\": False},\n",
    "    {\"title\": \"AWS Cloud Practitioner\", \"platform\": \"AWS Training\", \"level\": \"Beginner\", \"free\": True},\n",
    "    {\"title\": \"Big Data Fundamentals\", \"platform\": \"edX\", \"level\": \"Beginner\", \"free\": True},\n",
    "    {\"title\": \"Effective Communication\", \"platform\": \"LinkedIn Learning\", \"level\": \"All\", \"free\": False}\n",
    "]\n",
    "\n",
    "mentor_responses = {\n",
    "    'hello': [\"Hello! How can I assist you with your career or skills today?\"],\n",
    "    'help': [\"Feel free to ask me about career advice, skills improvement, or learning resources.\"],\n",
    "    'python': [\"Python is very useful! Consider projects and courses on data analysis and machine learning.\"],\n",
    "    'machine learning': [\"Try to build projects and learn libraries like scikit-learn and TensorFlow.\"],\n",
    "    'career': [\"Set SMART goals, keep learning, and network actively to grow your career.\"],\n",
    "    'default': [\"Could you please tell me more so I can assist better?\"]\n",
    "}\n",
    "\n",
    "def skill_gap_analysis_df(df):\n",
    "    df['Gap'] = df['Target Level'] - df['Current Level']\n",
    "    return df\n",
    "\n",
    "def get_mentor_response(user_input):\n",
    "    user_input = user_input.lower()\n",
    "    response = mentor_responses.get('default')[0]\n",
    "    for key in mentor_responses.keys():\n",
    "        if key in user_input:\n",
    "            response = random.choice(mentor_responses[key])\n",
    "            break\n",
    "    return response\n"
   ]
  },
  {
   "cell_type": "code",
   "execution_count": null,
   "id": "137797de-1ab4-4db6-99a3-536bedca5f81",
   "metadata": {},
   "outputs": [],
   "source": []
  },
  {
   "cell_type": "code",
   "execution_count": null,
   "id": "68130fe5-5ed5-4b95-a8b2-9661e4125a86",
   "metadata": {},
   "outputs": [],
   "source": []
  }
 ],
 "metadata": {
  "kernelspec": {
   "display_name": "Python 3 (ipykernel)",
   "language": "python",
   "name": "python3"
  },
  "language_info": {
   "codemirror_mode": {
    "name": "ipython",
    "version": 3
   },
   "file_extension": ".py",
   "mimetype": "text/x-python",
   "name": "python",
   "nbconvert_exporter": "python",
   "pygments_lexer": "ipython3",
   "version": "3.13.7"
  }
 },
 "nbformat": 4,
 "nbformat_minor": 5
}
