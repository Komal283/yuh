{
 "cells": [
  {
   "cell_type": "code",
   "execution_count": 14,
   "id": "68130fe5-5ed5-4b95-a8b2-9661e4125a86",
   "metadata": {},
   "outputs": [
    {
     "name": "stdout",
     "output_type": "stream",
     "text": [
      "To build leadership skills, focus on communication, decision-making, and managing teams. Courses on organizational behavior and management help.\n"
     ]
    }
   ],
   "source": [
    "# Cell 1: Imports and sample data\n",
    "import pandas as pd\n",
    "import requests\n",
    "\n",
    "user_profile = {\n",
    "    \"name\": \"Alex Johnson\",\n",
    "    \"profession\": \"Data Analyst\",\n",
    "    \"experience_years\": 4,\n",
    "    \"career_goals\": \"Advance into Data Science\",\n",
    "    \"career_interests\": [\"IT\", \"Data Science\", \"AI\"]\n",
    "}\n",
    "\n",
    "skills_data = {\n",
    "    'Skill': ['Python', 'SQL', 'Machine Learning', 'Deep Learning', 'Cloud Computing', 'Big Data', 'Communication'],\n",
    "    'Current Level': [4,4,2,1,1,1,5],\n",
    "    'Target Level': [5,5,4,3,3,3,5]\n",
    "}\n",
    "df_skills = pd.DataFrame(skills_data)\n",
    "\n",
    "# Cell 2: Skill gap analysis function\n",
    "def skill_gap_analysis_df(df):\n",
    "    df['Gap'] = df['Target Level'] - df['Current Level']\n",
    "    return df\n",
    "\n",
    "# Cell 3: Fetch live industry news for a given industry (replace YOUR_API_KEY with an actual one)\n",
    "def fetch_industry_news(industry):\n",
    "    NEWS_API_KEY = '7bdee1423c924023b081298e1edc98d1'\n",
    "    url = f'https://newsapi.org/v2/everything?q={industry}&apiKey={NEWS_API_KEY}&pageSize=5&sortBy=publishedAt'\n",
    "    response = requests.get(url)\n",
    "    if response.status_code == 200:\n",
    "        articles = response.json().get('articles', [])\n",
    "        return [(a['title'], a['url']) for a in articles]\n",
    "    else:\n",
    "        return []\n",
    "\n",
    "# Example usage:\n",
    "news_items = fetch_industry_news('Data Science')\n",
    "for title, url in news_items:\n",
    "    print(f\"- {title}\\n  {url}\")\n",
    "\n",
    "# Cell 4: Analytical mentor response logic\n",
    "def get_analytical_mentor_response(user_input, context):\n",
    "    user_input_lower = user_input.lower()\n",
    "    timeline = context.get('timeline', None)\n",
    "    prep_level = context.get('prep_level', None)\n",
    "\n",
    "    if \"leadership\" in user_input_lower:\n",
    "        return (\"To build leadership skills, focus on communication, decision-making, and managing teams. \"\n",
    "                \"Courses on organizational behavior and management help.\")\n",
    "    elif \"career growth\" in user_input_lower:\n",
    "        plan = (\"Assess current skills, identify gaps, set SMART goals, create a learning path \"\n",
    "                \"using training, mentorship, and practical projects.\")\n",
    "        if context.get('industry'):\n",
    "            plan += f\" For {context['industry']} sector, leverage specialized resources.\"\n",
    "        return plan\n",
    "    elif \"interview\" in user_input_lower:\n",
    "        return (\"Prepare for interviews by practicing behavioral and technical questions, understanding role demands, \"\n",
    "                \"and doing mock interviews with feedback.\")\n",
    "    else:\n",
    "        return (\"Please specify your career domain, current role, goals, and timeline so I can provide tailored guidance.\")\n",
    "\n",
    "response = get_analytical_mentor_response(\"I want to grow in leadership\", {\"industry\": \"Healthcare\"})\n",
    "print(response)\n"
   ]
  },
  {
   "cell_type": "code",
   "execution_count": null,
   "id": "11640938-4d0a-4482-8f38-5d23046193fc",
   "metadata": {},
   "outputs": [],
   "source": []
  }
 ],
 "metadata": {
  "kernelspec": {
   "display_name": "Python 3 (ipykernel)",
   "language": "python",
   "name": "python3"
  },
  "language_info": {
   "codemirror_mode": {
    "name": "ipython",
    "version": 3
   },
   "file_extension": ".py",
   "mimetype": "text/x-python",
   "name": "python",
   "nbconvert_exporter": "python",
   "pygments_lexer": "ipython3",
   "version": "3.13.7"
  }
 },
 "nbformat": 4,
 "nbformat_minor": 5
}
